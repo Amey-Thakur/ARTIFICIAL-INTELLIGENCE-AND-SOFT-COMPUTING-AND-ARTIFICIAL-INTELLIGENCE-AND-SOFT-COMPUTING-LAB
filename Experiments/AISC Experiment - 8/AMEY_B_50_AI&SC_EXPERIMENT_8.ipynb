{
  "nbformat": 4,
  "nbformat_minor": 0,
  "metadata": {
    "colab": {
      "name": "AMEY_B-50_AI&SC_EXPERIMENT-8.ipynb",
      "private_outputs": true,
      "provenance": [],
      "collapsed_sections": [],
      "authorship_tag": "ABX9TyNeetM8i55n7KjJYyRTKSzC",
      "include_colab_link": true
    },
    "kernelspec": {
      "name": "python3",
      "display_name": "Python 3"
    },
    "language_info": {
      "name": "python"
    }
  },
  "cells": [
    {
      "cell_type": "markdown",
      "metadata": {
        "id": "view-in-github",
        "colab_type": "text"
      },
      "source": [
        "<a href=\"https://colab.research.google.com/github/Amey-Thakur/ARTIFICIAL-INTELLIGENCE-AND-SOFT-COMPUTING-AND-ARTIFICIAL-INTELLIGENCE-AND-SOFT-COMPUTING-LAB/blob/main/AMEY_B_50_AI%26SC_EXPERIMENT_8.ipynb\" target=\"_parent\"><img src=\"https://colab.research.google.com/assets/colab-badge.svg\" alt=\"Open In Colab\"/></a>"
      ]
    },
    {
      "cell_type": "code",
      "metadata": {
        "id": "CUhLwJSyFZoe"
      },
      "source": [
        "import numpy as np\n",
        "\n",
        "def linear_threshold_gate(dot: int, T: float) -> int:\n",
        "\t'''Returns the binary threshold output'''\n",
        "\tif (dot >= T):\n",
        "\t\treturn 1\n",
        "\telse:\n",
        "\t\treturn 0\n",
        "\n",
        "# matrix of inputs\n",
        "input_table = np.array([\n",
        "[0,0], # both no\n",
        "[0,1], # one no, one yes\n",
        "[1,0], # one yes, one no\n",
        "[1,1] # bot yes\n",
        "])\n",
        "print(f'input table:\\n{input_table}')\n",
        "# array of weights\n",
        "weights = np.array([1,1])\n",
        "print(f'weights: {weights}')\n",
        "# dot product matrix of inputs and weights\n",
        "dot_products = input_table @ weights\n",
        "print(f'Dot products: {dot_products}')\n",
        "T = int(input(\"Enter threshold value: \"))\n",
        "if(T==1):\n",
        "\tprint(\"MCCULLOCH PITTS MODEL- OR GATE\")\n",
        "if(T==2):\n",
        "\tprint(\"MCCULLOCH PITTS MODEL- AND GATE\")\n",
        "for i in range(0,4):\n",
        "\tactivation = linear_threshold_gate(dot_products[i], T)\n",
        "\tprint(f'Activation: {activation}')"
      ],
      "execution_count": null,
      "outputs": []
    },
    {
      "cell_type": "code",
      "metadata": {
        "id": "uVPmbW8cF6cH"
      },
      "source": [
        ""
      ],
      "execution_count": null,
      "outputs": []
    }
  ]
}